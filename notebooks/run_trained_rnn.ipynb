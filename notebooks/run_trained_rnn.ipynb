{
 "cells": [
  {
   "cell_type": "code",
   "execution_count": 8,
   "metadata": {},
   "outputs": [],
   "source": [
    "import sys\n",
    "import os\n",
    "import numpy as np\n",
    "import importlib\n",
    "\n",
    "# hacky way, figure out proper way later\n",
    "import pickle as pkl\n",
    "import re"
   ]
  },
  {
   "cell_type": "code",
   "execution_count": 2,
   "metadata": {},
   "outputs": [],
   "source": [
    "sys.path.append(os.path.abspath(\"../\"))"
   ]
  },
  {
   "cell_type": "code",
   "execution_count": 26,
   "metadata": {},
   "outputs": [
    {
     "data": {
      "text/plain": [
       "<module 'utils.run' from '/Users/dkundu/Documents/phd/ann-rnn-modified/utils/run.py'>"
      ]
     },
     "execution_count": 26,
     "metadata": {},
     "output_type": "execute_result"
    }
   ],
   "source": [
    "import utils.run\n",
    "\n",
    "importlib.reload(utils.run)"
   ]
  },
  {
   "cell_type": "code",
   "execution_count": 28,
   "metadata": {},
   "outputs": [],
   "source": [
    "train_run_id = \"noisydata_with_choiced\"  # new training run id\n",
    "run_dir = \"/Users/dkundu/Documents/phd/ann-rnn-modified/runs/\"\n",
    "train_run_dir = os.path.join(run_dir, train_run_id)\n",
    "analyze_run_dir = os.path.join(train_run_dir, \"analyze\")\n",
    "\n",
    "checkpoint_paths = [\n",
    "    os.path.join(train_run_dir, file_path)\n",
    "    for file_path in os.listdir(train_run_dir)\n",
    "    if file_path.endswith(\".pt\")\n",
    "]\n",
    "\n",
    "checkpoints = np.sort(checkpoint_paths)"
   ]
  },
  {
   "cell_type": "code",
   "execution_count": 29,
   "metadata": {},
   "outputs": [],
   "source": [
    "# silly but numeric sort for checkpoint files\n",
    "\n",
    "numbered_files = [f for f in checkpoint_paths if re.search(r\"\\d+.pt$\", f)]\n",
    "sorted_files = sorted(\n",
    "    numbered_files, key=lambda x: int(re.search(r\"(\\d+).pt$\", x).group(1))\n",
    ")"
   ]
  },
  {
   "cell_type": "code",
   "execution_count": null,
   "metadata": {},
   "outputs": [],
   "source": [
    "for idx in range(1, 2):\n",
    "    setup_results = utils.run.setup_analyze(train_run_id=train_run_id, sort_index=idx)\n",
    "\n",
    "    run_envs_output = utils.run.run_envs(\n",
    "        model=setup_results[\"model\"], envs=setup_results[\"envs\"]\n",
    "    )\n",
    "    fname_idx = int(\n",
    "        checkpoints[idx]\n",
    "        .rsplit(\"/\")[-1]\n",
    "        .rsplit(\"checkpoint_grad_steps=\")[-1]\n",
    "        .rstrip(\".pt\")\n",
    "    )\n",
    "    try:\n",
    "        with open(\n",
    "            f\"Users/dkundu/Documents/phd/ann-rnn-modified/data/rnnmodels/noisydatachoiced{train_run_id}/analyze/{fname_idx}.pkl\",\n",
    "            \"wb\",\n",
    "        ) as f:\n",
    "            pkl.dump(run_envs_output, f)\n",
    "    except Exception as e:\n",
    "        print(e)"
   ]
  },
  {
   "cell_type": "code",
   "execution_count": null,
   "metadata": {},
   "outputs": [],
   "source": []
  }
 ],
 "metadata": {
  "kernelspec": {
   "display_name": "Python 3 (ipykernel)",
   "language": "python",
   "name": "python3"
  },
  "language_info": {
   "codemirror_mode": {
    "name": "ipython",
    "version": 3
   },
   "file_extension": ".py",
   "mimetype": "text/x-python",
   "name": "python",
   "nbconvert_exporter": "python",
   "pygments_lexer": "ipython3",
   "version": "3.8.20"
  }
 },
 "nbformat": 4,
 "nbformat_minor": 2
}
