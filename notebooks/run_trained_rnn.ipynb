{
 "cells": [
  {
   "cell_type": "code",
   "execution_count": 6,
   "metadata": {},
   "outputs": [],
   "source": [
    "import sys\n",
    "import os\n",
    "import numpy as np\n",
    "import importlib\n",
    "\n",
    "# hacky way, figure out proper way later\n",
    "import pickle as pkl\n",
    "import re\n",
    "from utils.hooklessrun import setup_analyze, run_envs"
   ]
  },
  {
   "cell_type": "code",
   "execution_count": 2,
   "metadata": {},
   "outputs": [],
   "source": [
    "train_run_id = \"fixed_at_3kitx\"  # new training run id\n",
    "run_dir = \"/Users/dkundu/Documents/phd/ann-rnn-modified/runs/\"\n",
    "train_run_dir = os.path.join(run_dir, train_run_id)\n",
    "analyze_run_dir = os.path.join(train_run_dir, \"analyze\")"
   ]
  },
  {
   "cell_type": "code",
   "execution_count": 5,
   "metadata": {},
   "outputs": [],
   "source": []
  },
  {
   "cell_type": "code",
   "execution_count": null,
   "metadata": {},
   "outputs": [],
   "source": [
    "# for idx in range():\n",
    "\n",
    "setup_results_9000 = setup_analyze(\n",
    "    run_dir=run_dir, train_run_id=train_run_id, checkpoint_number=\"9000\"\n",
    ")\n",
    "\n",
    "setup_results_5000 = setup_analyze(\n",
    "    run_dir=run_dir, train_run_id=train_run_id, checkpoint_number=\"5000\"\n",
    ")\n",
    "\n",
    "setup_results_original = setup_analyze(\n",
    "    run_dir=run_dir, train_run_id=train_run_id, checkpoint_number=\"0000\"\n",
    ")"
   ]
  },
  {
   "cell_type": "code",
   "execution_count": null,
   "metadata": {},
   "outputs": [],
   "source": []
  },
  {
   "cell_type": "code",
   "execution_count": 4,
   "metadata": {},
   "outputs": [],
   "source": [
    "## compare the weights, to see if they stay the same\n",
    "\n",
    "model_original = setup_results_original[\"model\"]\n",
    "model_1000 = setup_results_5000[\"model\"]\n",
    "model_9000 = setup_results_9000[\"model\"]"
   ]
  },
  {
   "cell_type": "code",
   "execution_count": null,
   "metadata": {},
   "outputs": [],
   "source": [
    "setups = [setup_results_original, setup_results_5000, setup_results_9000]\n",
    "\n",
    "for idx, setup in enumerate(setups):\n",
    "    run_envs_output = run_envs(model=setup[\"model\"], envs=setup[\"envs\"])\n",
    "    with open(\n",
    "        f\"../data/fixed_time_stim_fixed_weights/model_checkpt_{idx}_output.pkl\", \"wb\"\n",
    "    ) as f:\n",
    "        pkl.dump(run_envs_output, f)\n",
    "    print(f\"Saved output for model_checkpt_{idx}\")"
   ]
  },
  {
   "cell_type": "code",
   "execution_count": 7,
   "metadata": {},
   "outputs": [
    {
     "data": {
      "text/plain": [
       "'tanh'"
      ]
     },
     "execution_count": 7,
     "metadata": {},
     "output_type": "execute_result"
    }
   ],
   "source": [
    "# runn all checkpoints\n"
   ]
  },
  {
   "cell_type": "code",
   "execution_count": null,
   "metadata": {},
   "outputs": [],
   "source": []
  }
 ],
 "metadata": {
  "kernelspec": {
   "display_name": "Python 3",
   "language": "python",
   "name": "python3"
  },
  "language_info": {
   "codemirror_mode": {
    "name": "ipython",
    "version": 3
   },
   "file_extension": ".py",
   "mimetype": "text/x-python",
   "name": "python",
   "nbconvert_exporter": "python",
   "pygments_lexer": "ipython3",
   "version": "3.8.20"
  }
 },
 "nbformat": 4,
 "nbformat_minor": 2
}
