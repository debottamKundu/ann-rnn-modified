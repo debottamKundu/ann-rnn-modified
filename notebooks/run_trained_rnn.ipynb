{
 "cells": [
  {
   "cell_type": "code",
   "execution_count": 1,
   "metadata": {},
   "outputs": [],
   "source": [
    "import sys\n",
    "import os\n",
    "import numpy as np\n",
    "import importlib\n",
    "\n",
    "# hacky way, figure out proper way later\n",
    "import pickle as pkl\n",
    "import re"
   ]
  },
  {
   "cell_type": "code",
   "execution_count": 3,
   "metadata": {},
   "outputs": [],
   "source": [
    "from utils.hooklessrun import run_envs"
   ]
  },
  {
   "cell_type": "code",
   "execution_count": null,
   "metadata": {},
   "outputs": [],
   "source": []
  },
  {
   "cell_type": "code",
   "execution_count": 11,
   "metadata": {},
   "outputs": [],
   "source": [
    "train_run_id = \"fixed_time_stim_no_reward\"  # new training run id\n",
    "run_dir = \"/Users/dkundu/Documents/phd/ann-rnn-modified/runs/\"\n",
    "train_run_dir = os.path.join(run_dir, train_run_id)\n",
    "analyze_run_dir = os.path.join(train_run_dir, \"analyze\")\n",
    "\n",
    "checkpoint_paths = [\n",
    "    os.path.join(train_run_dir, file_path)\n",
    "    for file_path in os.listdir(train_run_dir)\n",
    "    if file_path.endswith(\".pt\")\n",
    "]\n",
    "\n",
    "checkpoints = np.sort(checkpoint_paths)"
   ]
  },
  {
   "cell_type": "code",
   "execution_count": 13,
   "metadata": {},
   "outputs": [],
   "source": [
    "# silly but numeric sort for checkpoint files\n",
    "\n",
    "numbered_files = [f for f in checkpoint_paths if re.search(r\"\\d+.pt$\", f)]\n",
    "sorted_files = sorted(\n",
    "    numbered_files, key=lambda x: int(re.search(r\"(\\d+).pt$\", x).group(1))\n",
    ")"
   ]
  },
  {
   "cell_type": "code",
   "execution_count": 14,
   "metadata": {},
   "outputs": [
    {
     "data": {
      "text/plain": [
       "'/Users/dkundu/Documents/phd/ann-rnn-modified/runs/'"
      ]
     },
     "execution_count": 14,
     "metadata": {},
     "output_type": "execute_result"
    }
   ],
   "source": [
    "run_dir"
   ]
  },
  {
   "cell_type": "code",
   "execution_count": 15,
   "metadata": {},
   "outputs": [
    {
     "name": "stdout",
     "output_type": "stream",
     "text": [
      "Logger created successfully\n",
      "Logger created successfully\n",
      "Logger created successfully\n",
      "Seed: 1\n",
      "Seed: 1\n",
      "Seed: 1\n",
      "Seed: 1\n",
      "Loading checkpoint at /Users/dkundu/Documents/phd/ann-rnn-modified/runs/fixed_time_stim_no_reward/checkpoint_grad_steps=99000.pt\n",
      "Loading checkpoint at /Users/dkundu/Documents/phd/ann-rnn-modified/runs/fixed_time_stim_no_reward/checkpoint_grad_steps=99000.pt\n",
      "Loading checkpoint at /Users/dkundu/Documents/phd/ann-rnn-modified/runs/fixed_time_stim_no_reward/checkpoint_grad_steps=99000.pt\n",
      "Loading checkpoint at /Users/dkundu/Documents/phd/ann-rnn-modified/runs/fixed_time_stim_no_reward/checkpoint_grad_steps=99000.pt\n",
      "rnn, input_mask=none, readout_mask=none, recurrent_mask=none, hidden_size=10, num_layers=1, param_init=default\n"
     ]
    }
   ],
   "source": [
    "# for idx in range():\n",
    "\n",
    "setup_results_99000 = utils.hooklessrun.setup_analyze(\n",
    "    run_dir=run_dir, train_run_id=train_run_id, checkpoint_number=\"99000\"\n",
    ")\n",
    "\n",
    "# setup_results_3000 = utils.hooklessrun.setup_analyze(\n",
    "#     run_dir=run_dir, train_run_id=train_run_id, checkpoint_number=\"3000\"\n",
    "# )\n",
    "\n",
    "# setup_results_0 = utils.hooklessrun.setup_analyze(\n",
    "#     run_dir=run_dir, train_run_id=train_run_id, checkpoint_number=\"0000\"\n",
    "# )"
   ]
  },
  {
   "cell_type": "code",
   "execution_count": 16,
   "metadata": {},
   "outputs": [
    {
     "name": "stdout",
     "output_type": "stream",
     "text": [
      "Average Loss Per Dt: -0.7273494289048101\n",
      "Average Loss Per Dt: -0.7273494289048101\n",
      "Average Loss Per Dt: -0.7273494289048101\n",
      "Average Loss Per Dt: -0.7273494289048101\n",
      "# Action Trials / # Total Trials: 0.89603191614151\n",
      "# Action Trials / # Total Trials: 0.89603191614151\n",
      "# Action Trials / # Total Trials: 0.89603191614151\n",
      "# Action Trials / # Total Trials: 0.89603191614151\n",
      "# Correct Trials / # Action Trials: 0.9289955467590302\n",
      "# Correct Trials / # Action Trials: 0.9289955467590302\n",
      "# Correct Trials / # Action Trials: 0.9289955467590302\n",
      "# Correct Trials / # Action Trials: 0.9289955467590302\n",
      "# Correct Trials / # Total Trials: 0.8324096652626912\n",
      "# Correct Trials / # Total Trials: 0.8324096652626912\n",
      "# Correct Trials / # Total Trials: 0.8324096652626912\n",
      "# Correct Trials / # Total Trials: 0.8324096652626912\n",
      "# Correct Trials / # Total Steps: 0.11891566646609875\n",
      "# Correct Trials / # Total Steps: 0.11891566646609875\n",
      "# Correct Trials / # Total Steps: 0.11891566646609875\n",
      "# Correct Trials / # Total Steps: 0.11891566646609875\n",
      "Average steps per trial: 7.0\n",
      "Average steps per trial: 7.0\n",
      "Average steps per trial: 7.0\n",
      "Average steps per trial: 7.0\n"
     ]
    }
   ],
   "source": [
    "# # # fix this error, step through and debug\n",
    "# # # should be easy\n",
    "run_envs_output = utils.hooklessrun.run_envs(\n",
    "    model=setup_results_99000[\"model\"], envs=setup_results_99000[\"envs\"]\n",
    ")"
   ]
  },
  {
   "cell_type": "code",
   "execution_count": 16,
   "metadata": {},
   "outputs": [
    {
     "data": {
      "text/plain": [
       "{'connectivity_kwargs': {'input_mask': 'none',\n",
       "  'readout_mask': 'none',\n",
       "  'recurrent_mask': 'none'},\n",
       " 'core_kwargs': {'hidden_size': 10, 'num_layers': 1},\n",
       " 'input_size': 3,\n",
       " 'output_size': 2,\n",
       " 'param_init': 'default'}"
      ]
     },
     "execution_count": 16,
     "metadata": {},
     "output_type": "execute_result"
    }
   ],
   "source": []
  },
  {
   "cell_type": "code",
   "execution_count": 9,
   "metadata": {},
   "outputs": [
    {
     "name": "stdout",
     "output_type": "stream",
     "text": [
      "core.weight_ih_l0 torch.Size([10, 3])\n",
      "core.weight_hh_l0 torch.Size([10, 10])\n",
      "core.bias_ih_l0 torch.Size([10])\n",
      "core.bias_hh_l0 torch.Size([10])\n",
      "readout.weight torch.Size([2, 10])\n",
      "readout.bias torch.Size([2])\n"
     ]
    }
   ],
   "source": [
    "for name, param in setup_results_3000[\"model\"].named_parameters():\n",
    "    print(name, param.shape)"
   ]
  },
  {
   "cell_type": "code",
   "execution_count": null,
   "metadata": {},
   "outputs": [],
   "source": []
  },
  {
   "cell_type": "code",
   "execution_count": 25,
   "metadata": {},
   "outputs": [
    {
     "name": "stdout",
     "output_type": "stream",
     "text": [
      "core.weight_ih_l0: requires_grad=False\n",
      "core.weight_hh_l0: requires_grad=False\n",
      "core.bias_ih_l0: requires_grad=False\n",
      "core.bias_hh_l0: requires_grad=False\n",
      "readout.weight: requires_grad=True\n",
      "readout.bias: requires_grad=True\n"
     ]
    }
   ],
   "source": [
    "for param in setup_results_0[\"model\"].core.parameters():\n",
    "    param.requires_grad = False\n",
    "\n",
    "\n",
    "for name, param in setup_results_0[\"model\"].named_parameters():\n",
    "    print(f\"{name}: requires_grad={param.requires_grad}\")"
   ]
  },
  {
   "cell_type": "code",
   "execution_count": 24,
   "metadata": {},
   "outputs": [],
   "source": [
    "import torch\n",
    "from scipy.stats import pearsonr"
   ]
  },
  {
   "cell_type": "code",
   "execution_count": 47,
   "metadata": {},
   "outputs": [
    {
     "data": {
      "text/plain": [
       "PearsonRResult(statistic=0.8914661451892587, pvalue=1.8189704832639683e-35)"
      ]
     },
     "execution_count": 47,
     "metadata": {},
     "output_type": "execute_result"
    }
   ],
   "source": [
    "pearsonr(\n",
    "    setup_results_0[\"model\"].core.weight_hh_l0.detach().numpy().flatten(),\n",
    "    setup_results_99000[\"model\"].core.weight_hh_l0.detach().numpy().flatten(),\n",
    ")"
   ]
  },
  {
   "cell_type": "code",
   "execution_count": null,
   "metadata": {},
   "outputs": [],
   "source": []
  }
 ],
 "metadata": {
  "kernelspec": {
   "display_name": "Python 3",
   "language": "python",
   "name": "python3"
  },
  "language_info": {
   "codemirror_mode": {
    "name": "ipython",
    "version": 3
   },
   "file_extension": ".py",
   "mimetype": "text/x-python",
   "name": "python",
   "nbconvert_exporter": "python",
   "pygments_lexer": "ipython3",
   "version": "3.8.20"
  }
 },
 "nbformat": 4,
 "nbformat_minor": 2
}
